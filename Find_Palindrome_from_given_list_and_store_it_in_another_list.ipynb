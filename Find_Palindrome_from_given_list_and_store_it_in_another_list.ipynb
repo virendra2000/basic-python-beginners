{
  "nbformat": 4,
  "nbformat_minor": 0,
  "metadata": {
    "colab": {
      "provenance": [],
      "authorship_tag": "ABX9TyNguK8Bp0h1DWfuZm7WtbJR",
      "include_colab_link": true
    },
    "kernelspec": {
      "name": "python3",
      "display_name": "Python 3"
    },
    "language_info": {
      "name": "python"
    }
  },
  "cells": [
    {
      "cell_type": "markdown",
      "metadata": {
        "id": "view-in-github",
        "colab_type": "text"
      },
      "source": [
        "<a href=\"https://colab.research.google.com/github/virendra2000/basic-python-beginners/blob/main/Find_Palindrome_from_given_list_and_store_it_in_another_list.ipynb\" target=\"_parent\"><img src=\"https://colab.research.google.com/assets/colab-badge.svg\" alt=\"Open In Colab\"/></a>"
      ]
    },
    {
      "cell_type": "code",
      "execution_count": 9,
      "metadata": {
        "id": "tDYBWpb_ciDs"
      },
      "outputs": [],
      "source": [
        "numlist = [434,678,121,133,999,656,887,665]\n",
        "palindromelist = []"
      ]
    },
    {
      "cell_type": "code",
      "source": [
        "print(numlist)"
      ],
      "metadata": {
        "colab": {
          "base_uri": "https://localhost:8080/"
        },
        "id": "6L3gpDJDc_Zv",
        "outputId": "cb03db93-500b-4466-cff2-a074501d765b"
      },
      "execution_count": 10,
      "outputs": [
        {
          "output_type": "stream",
          "name": "stdout",
          "text": [
            "[434, 678, 121, 133, 999, 656, 887, 665]\n"
          ]
        }
      ]
    },
    {
      "cell_type": "code",
      "source": [
        "for i in numlist:\n",
        " \n",
        "        # Find reverse of current number\n",
        "        t = i\n",
        "        rev = 0\n",
        "        while t > 0:\n",
        "            rev = rev * 10 + t % 10\n",
        "            t = t // 10\n",
        " \n",
        "        # compare rev with the current number\n",
        "        if rev == i:\n",
        "            palindromelist.append(i)\n"
      ],
      "metadata": {
        "id": "Qp17P864hqyq"
      },
      "execution_count": 12,
      "outputs": []
    },
    {
      "cell_type": "code",
      "source": [
        "print(\"Origin of Number List\",numlist)\n",
        "print(\"Palindrome Number List\",palindromelist)"
      ],
      "metadata": {
        "colab": {
          "base_uri": "https://localhost:8080/"
        },
        "id": "PyvVHlkUikuJ",
        "outputId": "86ccac74-e87b-4279-d415-968a8aa06fed"
      },
      "execution_count": 13,
      "outputs": [
        {
          "output_type": "stream",
          "name": "stdout",
          "text": [
            "Origin of Number List [434, 678, 121, 133, 999, 656, 887, 665]\n",
            "Palindrome Number List [434, 121, 999, 656]\n"
          ]
        }
      ]
    }
  ]
}