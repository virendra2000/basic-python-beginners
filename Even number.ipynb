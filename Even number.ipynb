{
 "cells": [
  {
   "cell_type": "code",
   "execution_count": 3,
   "id": "1ccbcb22",
   "metadata": {},
   "outputs": [
    {
     "name": "stdout",
     "output_type": "stream",
     "text": [
      "Enter a number12\n",
      "12 is even number\n"
     ]
    }
   ],
   "source": [
    "x=int(input(\"Enter a number\"))\n",
    "if x%2==0:\n",
    "    print(x,\"is even number\")"
   ]
  },
  {
   "cell_type": "code",
   "execution_count": 4,
   "id": "3924b45e",
   "metadata": {},
   "outputs": [
    {
     "name": "stdout",
     "output_type": "stream",
     "text": [
      "Enter a number12\n",
      "12 is even number\n"
     ]
    }
   ],
   "source": [
    "x=int(input(\"Enter a number\"))\n",
    "if x%2==0:\n",
    "    print(x,\"is even number\")\n",
    "else:\n",
    "    print(x,\"is not even number\")"
   ]
  },
  {
   "cell_type": "code",
   "execution_count": null,
   "id": "d47d6fff",
   "metadata": {},
   "outputs": [],
   "source": [
    "x=int(input(\"Enter a number\"))\n",
    "if x%2==0:\n",
    "    print(x,\"is even number\")\n",
    "else:\n",
    "    print(x,\"is not even number\")"
   ]
  },
  {
   "cell_type": "code",
   "execution_count": null,
   "id": "017364cc",
   "metadata": {},
   "outputs": [],
   "source": [
    "x=int(input(\"Enter a number\"))\n",
    "if x%2==0:\n",
    "    print(x,\"is even number\")\n",
    "else:\n",
    "    print(x,\"is not even number\")"
   ]
  },
  {
   "cell_type": "code",
   "execution_count": null,
   "id": "5b5e3e4c",
   "metadata": {},
   "outputs": [],
   "source": []
  }
 ],
 "metadata": {
  "kernelspec": {
   "display_name": "Python 3",
   "language": "python",
   "name": "python3"
  },
  "language_info": {
   "codemirror_mode": {
    "name": "ipython",
    "version": 3
   },
   "file_extension": ".py",
   "mimetype": "text/x-python",
   "name": "python",
   "nbconvert_exporter": "python",
   "pygments_lexer": "ipython3",
   "version": "3.8.8"
  }
 },
 "nbformat": 4,
 "nbformat_minor": 5
}
